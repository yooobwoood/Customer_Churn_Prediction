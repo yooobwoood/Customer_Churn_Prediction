{
 "cells": [
  {
   "cell_type": "markdown",
   "metadata": {},
   "source": [
    "## Import"
   ]
  },
  {
   "cell_type": "code",
   "execution_count": 28,
   "metadata": {},
   "outputs": [],
   "source": [
    "import numpy as np\n",
    "import pandas as pd\n",
    "import matplotlib.pyplot as plt\n",
    "\n",
    "from sklearn.model_selection import train_test_split\n",
    "from sklearn.metrics import roc_curve, auc, precision_score, recall_score, f1_score, classification_report, ConfusionMatrixDisplay\n",
    "\n",
    "import tensorflow as tf\n",
    "from tensorflow.keras.models import Sequential \n",
    "from tensorflow.keras.layers import Dense, Dropout\n",
    "from tensorflow.keras.callbacks import EarlyStopping, ModelCheckpoint\n",
    "\n",
    "import warnings\n",
    "warnings.filterwarnings('ignore')"
   ]
  },
  {
   "cell_type": "markdown",
   "metadata": {},
   "source": [
    "## Load Data"
   ]
  },
  {
   "cell_type": "code",
   "execution_count": 29,
   "metadata": {},
   "outputs": [],
   "source": [
    "preprocess_df = pd.read_csv('../data/preprocessing_data.csv')"
   ]
  },
  {
   "cell_type": "markdown",
   "metadata": {},
   "source": [
    "## Feature Selection"
   ]
  },
  {
   "cell_type": "code",
   "execution_count": 30,
   "metadata": {},
   "outputs": [],
   "source": [
    "X = preprocess_df.drop(columns = ['customer_id','location','payment_plan','payment_method','num_playlists_created','churned'])\n",
    "y = preprocess_df['churned']"
   ]
  },
  {
   "cell_type": "markdown",
   "metadata": {},
   "source": [
    "## Training set / Validation set / Test set"
   ]
  },
  {
   "cell_type": "code",
   "execution_count": 31,
   "metadata": {},
   "outputs": [],
   "source": [
    "# 데이터를 70% 훈련 세트, 30% 임시 세트로 나누기\n",
    "X_train, X_temp, y_train, y_temp = train_test_split(X, y, test_size=0.3, random_state=42)\n",
    "\n",
    "# 임시 세트를 다시 50%로 나누어 15% 검증 세트, 15% 테스트 세트로 나누기\n",
    "X_val, X_test, y_val, y_test = train_test_split(X_temp, y_temp, test_size=0.5, random_state=42)"
   ]
  },
  {
   "cell_type": "markdown",
   "metadata": {},
   "source": [
    "## MLP Model"
   ]
  },
  {
   "cell_type": "markdown",
   "metadata": {},
   "source": [
    "- 모델 정의"
   ]
  },
  {
   "cell_type": "code",
   "execution_count": 32,
   "metadata": {},
   "outputs": [],
   "source": [
    "model = Sequential([\n",
    "    Dense(64, activation='relu', input_shape=(X_train.shape[1],)),\n",
    "    Dropout(0.3), # dropout 추가\n",
    "    Dense(32, activation='relu'),\n",
    "    Dense(1, activation='sigmoid') \n",
    "])"
   ]
  },
  {
   "cell_type": "markdown",
   "metadata": {},
   "source": [
    "- 모델 컴파일"
   ]
  },
  {
   "cell_type": "code",
   "execution_count": 33,
   "metadata": {},
   "outputs": [],
   "source": [
    "model.compile(optimizer=tf.keras.optimizers.Adam(learning_rate=0.001), \n",
    "              loss='binary_crossentropy',  \n",
    "              metrics=['accuracy'])"
   ]
  },
  {
   "cell_type": "markdown",
   "metadata": {},
   "source": [
    "- 콜백 정의 (추가)"
   ]
  },
  {
   "cell_type": "code",
   "execution_count": 34,
   "metadata": {},
   "outputs": [],
   "source": [
    "early_stopping = EarlyStopping(monitor='val_loss', patience=20, restore_best_weights=True)\n",
    "model_checkpoint = ModelCheckpoint('best_model.h5', save_best_only=True)"
   ]
  },
  {
   "cell_type": "markdown",
   "metadata": {},
   "source": [
    "- 모델 학습"
   ]
  },
  {
   "cell_type": "code",
   "execution_count": 35,
   "metadata": {},
   "outputs": [
    {
     "name": "stdout",
     "output_type": "stream",
     "text": [
      "Epoch 1/100\n"
     ]
    },
    {
     "name": "stderr",
     "output_type": "stream",
     "text": [
      "2024-07-07 19:19:45.850932: I tensorflow/core/grappler/optimizers/custom_graph_optimizer_registry.cc:112] Plugin optimizer for device_type GPU is enabled.\n"
     ]
    },
    {
     "name": "stdout",
     "output_type": "stream",
     "text": [
      "2735/2735 [==============================] - ETA: 0s - loss: 1.3252 - accuracy: 0.6679"
     ]
    },
    {
     "name": "stderr",
     "output_type": "stream",
     "text": [
      "2024-07-07 19:19:59.083029: I tensorflow/core/grappler/optimizers/custom_graph_optimizer_registry.cc:112] Plugin optimizer for device_type GPU is enabled.\n"
     ]
    },
    {
     "name": "stdout",
     "output_type": "stream",
     "text": [
      "2735/2735 [==============================] - 15s 5ms/step - loss: 1.3252 - accuracy: 0.6679 - val_loss: 0.7513 - val_accuracy: 0.6645\n",
      "Epoch 2/100\n",
      "2735/2735 [==============================] - 13s 5ms/step - loss: 0.6534 - accuracy: 0.7556 - val_loss: 0.9045 - val_accuracy: 0.6526\n",
      "Epoch 3/100\n",
      "2735/2735 [==============================] - 13s 5ms/step - loss: 0.5680 - accuracy: 0.7675 - val_loss: 0.6198 - val_accuracy: 0.7205\n",
      "Epoch 4/100\n",
      "2735/2735 [==============================] - 13s 5ms/step - loss: 0.5029 - accuracy: 0.7771 - val_loss: 0.4455 - val_accuracy: 0.7825\n",
      "Epoch 5/100\n",
      "2735/2735 [==============================] - 13s 5ms/step - loss: 0.4613 - accuracy: 0.7858 - val_loss: 0.4693 - val_accuracy: 0.7742\n",
      "Epoch 6/100\n",
      "2735/2735 [==============================] - 13s 5ms/step - loss: 0.4403 - accuracy: 0.7927 - val_loss: 0.4071 - val_accuracy: 0.8113\n",
      "Epoch 7/100\n",
      "2735/2735 [==============================] - 13s 5ms/step - loss: 0.4227 - accuracy: 0.7994 - val_loss: 0.4055 - val_accuracy: 0.8111\n",
      "Epoch 8/100\n",
      "2735/2735 [==============================] - 14s 5ms/step - loss: 0.4151 - accuracy: 0.8047 - val_loss: 0.4477 - val_accuracy: 0.7808\n",
      "Epoch 9/100\n",
      "2735/2735 [==============================] - 13s 5ms/step - loss: 0.4110 - accuracy: 0.8059 - val_loss: 0.5086 - val_accuracy: 0.7374\n",
      "Epoch 10/100\n",
      "2735/2735 [==============================] - 13s 5ms/step - loss: 0.4098 - accuracy: 0.8064 - val_loss: 0.4044 - val_accuracy: 0.8107\n",
      "Epoch 11/100\n",
      "2735/2735 [==============================] - 13s 5ms/step - loss: 0.4088 - accuracy: 0.8060 - val_loss: 0.4232 - val_accuracy: 0.8063\n",
      "Epoch 12/100\n",
      "2735/2735 [==============================] - 13s 5ms/step - loss: 0.4084 - accuracy: 0.8065 - val_loss: 0.4197 - val_accuracy: 0.8033\n",
      "Epoch 13/100\n",
      "2735/2735 [==============================] - 14s 5ms/step - loss: 0.4051 - accuracy: 0.8077 - val_loss: 0.4139 - val_accuracy: 0.8063\n",
      "Epoch 14/100\n",
      "2735/2735 [==============================] - 14s 5ms/step - loss: 0.4046 - accuracy: 0.8081 - val_loss: 0.4126 - val_accuracy: 0.8077\n",
      "Epoch 15/100\n",
      "2735/2735 [==============================] - 13s 5ms/step - loss: 0.4045 - accuracy: 0.8078 - val_loss: 0.4250 - val_accuracy: 0.8042\n",
      "Epoch 16/100\n",
      "2735/2735 [==============================] - 14s 5ms/step - loss: 0.4025 - accuracy: 0.8089 - val_loss: 0.4326 - val_accuracy: 0.7957\n",
      "Epoch 17/100\n",
      "2735/2735 [==============================] - 14s 5ms/step - loss: 0.4005 - accuracy: 0.8084 - val_loss: 0.4225 - val_accuracy: 0.8107\n",
      "Epoch 18/100\n",
      "2735/2735 [==============================] - 14s 5ms/step - loss: 0.3990 - accuracy: 0.8104 - val_loss: 0.4537 - val_accuracy: 0.7763\n",
      "Epoch 19/100\n",
      "2735/2735 [==============================] - 14s 5ms/step - loss: 0.4001 - accuracy: 0.8099 - val_loss: 0.4152 - val_accuracy: 0.8043\n",
      "Epoch 20/100\n",
      "2735/2735 [==============================] - 14s 5ms/step - loss: 0.3991 - accuracy: 0.8097 - val_loss: 0.4038 - val_accuracy: 0.8110\n",
      "Epoch 21/100\n",
      "2735/2735 [==============================] - 13s 5ms/step - loss: 0.3973 - accuracy: 0.8108 - val_loss: 0.4158 - val_accuracy: 0.8011\n",
      "Epoch 22/100\n",
      "2735/2735 [==============================] - 13s 5ms/step - loss: 0.3977 - accuracy: 0.8114 - val_loss: 0.4165 - val_accuracy: 0.8079\n",
      "Epoch 23/100\n",
      "2735/2735 [==============================] - 13s 5ms/step - loss: 0.3962 - accuracy: 0.8122 - val_loss: 0.4135 - val_accuracy: 0.8115\n",
      "Epoch 24/100\n",
      "2735/2735 [==============================] - 14s 5ms/step - loss: 0.3941 - accuracy: 0.8133 - val_loss: 0.3851 - val_accuracy: 0.8165\n",
      "Epoch 25/100\n",
      "2735/2735 [==============================] - 13s 5ms/step - loss: 0.3912 - accuracy: 0.8159 - val_loss: 0.3889 - val_accuracy: 0.8217\n",
      "Epoch 26/100\n",
      "2735/2735 [==============================] - 13s 5ms/step - loss: 0.3882 - accuracy: 0.8179 - val_loss: 0.4014 - val_accuracy: 0.8146\n",
      "Epoch 27/100\n",
      "2735/2735 [==============================] - 14s 5ms/step - loss: 0.3857 - accuracy: 0.8172 - val_loss: 0.3999 - val_accuracy: 0.8162\n",
      "Epoch 28/100\n",
      "2735/2735 [==============================] - 14s 5ms/step - loss: 0.3841 - accuracy: 0.8181 - val_loss: 0.3959 - val_accuracy: 0.8209\n",
      "Epoch 29/100\n",
      "2735/2735 [==============================] - 13s 5ms/step - loss: 0.3835 - accuracy: 0.8194 - val_loss: 0.3838 - val_accuracy: 0.8202\n",
      "Epoch 30/100\n",
      "2735/2735 [==============================] - 13s 5ms/step - loss: 0.3827 - accuracy: 0.8193 - val_loss: 0.3876 - val_accuracy: 0.8226\n",
      "Epoch 31/100\n",
      "2735/2735 [==============================] - 14s 5ms/step - loss: 0.3805 - accuracy: 0.8197 - val_loss: 0.3863 - val_accuracy: 0.8269\n",
      "Epoch 32/100\n",
      "2735/2735 [==============================] - 13s 5ms/step - loss: 0.3810 - accuracy: 0.8202 - val_loss: 0.3902 - val_accuracy: 0.8219\n",
      "Epoch 33/100\n",
      "2735/2735 [==============================] - 13s 5ms/step - loss: 0.3796 - accuracy: 0.8207 - val_loss: 0.3862 - val_accuracy: 0.8240\n",
      "Epoch 34/100\n",
      "2735/2735 [==============================] - 14s 5ms/step - loss: 0.3776 - accuracy: 0.8219 - val_loss: 0.3926 - val_accuracy: 0.8250\n",
      "Epoch 35/100\n",
      "2735/2735 [==============================] - 14s 5ms/step - loss: 0.3796 - accuracy: 0.8206 - val_loss: 0.3883 - val_accuracy: 0.8267\n",
      "Epoch 36/100\n",
      "2735/2735 [==============================] - 14s 5ms/step - loss: 0.3776 - accuracy: 0.8221 - val_loss: 0.3957 - val_accuracy: 0.8250\n",
      "Epoch 37/100\n",
      "2735/2735 [==============================] - 14s 5ms/step - loss: 0.3750 - accuracy: 0.8228 - val_loss: 0.3890 - val_accuracy: 0.8261\n",
      "Epoch 38/100\n",
      "2735/2735 [==============================] - 14s 5ms/step - loss: 0.3760 - accuracy: 0.8230 - val_loss: 0.3825 - val_accuracy: 0.8283\n",
      "Epoch 39/100\n",
      "2735/2735 [==============================] - 14s 5ms/step - loss: 0.3744 - accuracy: 0.8242 - val_loss: 0.3856 - val_accuracy: 0.8236\n",
      "Epoch 40/100\n",
      "2735/2735 [==============================] - 14s 5ms/step - loss: 0.3743 - accuracy: 0.8235 - val_loss: 0.3755 - val_accuracy: 0.8272\n",
      "Epoch 41/100\n",
      "2735/2735 [==============================] - 14s 5ms/step - loss: 0.3744 - accuracy: 0.8232 - val_loss: 0.3828 - val_accuracy: 0.8268\n",
      "Epoch 42/100\n",
      "2735/2735 [==============================] - 13s 5ms/step - loss: 0.3730 - accuracy: 0.8235 - val_loss: 0.3903 - val_accuracy: 0.8242\n",
      "Epoch 43/100\n",
      "2735/2735 [==============================] - 15s 5ms/step - loss: 0.3744 - accuracy: 0.8235 - val_loss: 0.3862 - val_accuracy: 0.8205\n",
      "Epoch 44/100\n",
      "2735/2735 [==============================] - 15s 6ms/step - loss: 0.3719 - accuracy: 0.8246 - val_loss: 0.3886 - val_accuracy: 0.8274\n",
      "Epoch 45/100\n",
      "2735/2735 [==============================] - 14s 5ms/step - loss: 0.3732 - accuracy: 0.8245 - val_loss: 0.3906 - val_accuracy: 0.8207\n",
      "Epoch 46/100\n",
      "2735/2735 [==============================] - 14s 5ms/step - loss: 0.3714 - accuracy: 0.8248 - val_loss: 0.3814 - val_accuracy: 0.8267\n",
      "Epoch 47/100\n",
      "2735/2735 [==============================] - 14s 5ms/step - loss: 0.3718 - accuracy: 0.8252 - val_loss: 0.3898 - val_accuracy: 0.8256\n",
      "Epoch 48/100\n",
      "2735/2735 [==============================] - 14s 5ms/step - loss: 0.3716 - accuracy: 0.8245 - val_loss: 0.3895 - val_accuracy: 0.8262\n",
      "Epoch 49/100\n",
      "2735/2735 [==============================] - 14s 5ms/step - loss: 0.3707 - accuracy: 0.8242 - val_loss: 0.3911 - val_accuracy: 0.8154\n",
      "Epoch 50/100\n",
      "2735/2735 [==============================] - 15s 5ms/step - loss: 0.3714 - accuracy: 0.8251 - val_loss: 0.3882 - val_accuracy: 0.8291\n",
      "Epoch 51/100\n",
      "2735/2735 [==============================] - 14s 5ms/step - loss: 0.3707 - accuracy: 0.8251 - val_loss: 0.3868 - val_accuracy: 0.8286\n",
      "Epoch 52/100\n",
      "2735/2735 [==============================] - 14s 5ms/step - loss: 0.3705 - accuracy: 0.8254 - val_loss: 0.3932 - val_accuracy: 0.8260\n",
      "Epoch 53/100\n",
      "2735/2735 [==============================] - 13s 5ms/step - loss: 0.3710 - accuracy: 0.8250 - val_loss: 0.3823 - val_accuracy: 0.8286\n",
      "Epoch 54/100\n",
      "2735/2735 [==============================] - 14s 5ms/step - loss: 0.3702 - accuracy: 0.8255 - val_loss: 0.3849 - val_accuracy: 0.8259\n",
      "Epoch 55/100\n",
      "2735/2735 [==============================] - 14s 5ms/step - loss: 0.3702 - accuracy: 0.8250 - val_loss: 0.3806 - val_accuracy: 0.8275\n",
      "Epoch 56/100\n",
      "2735/2735 [==============================] - 15s 5ms/step - loss: 0.3710 - accuracy: 0.8244 - val_loss: 0.3846 - val_accuracy: 0.8242\n",
      "Epoch 57/100\n",
      "2735/2735 [==============================] - 14s 5ms/step - loss: 0.3698 - accuracy: 0.8257 - val_loss: 0.3831 - val_accuracy: 0.8285\n",
      "Epoch 58/100\n",
      "2735/2735 [==============================] - 14s 5ms/step - loss: 0.3704 - accuracy: 0.8251 - val_loss: 0.3813 - val_accuracy: 0.8264\n",
      "Epoch 59/100\n",
      "2735/2735 [==============================] - 14s 5ms/step - loss: 0.3694 - accuracy: 0.8264 - val_loss: 0.3834 - val_accuracy: 0.8267\n",
      "Epoch 60/100\n",
      "2735/2735 [==============================] - 14s 5ms/step - loss: 0.3690 - accuracy: 0.8263 - val_loss: 0.3821 - val_accuracy: 0.8258\n"
     ]
    }
   ],
   "source": [
    "history = model.fit(X_train, y_train, \n",
    "                    epochs=100, # epoch 수 증가\n",
    "                    batch_size=32, \n",
    "                    validation_data=(X_val, y_val),\n",
    "                    callbacks = [early_stopping, model_checkpoint])"
   ]
  },
  {
   "cell_type": "markdown",
   "metadata": {},
   "source": [
    "- 테스트 세트 평가"
   ]
  },
  {
   "cell_type": "code",
   "execution_count": 36,
   "metadata": {},
   "outputs": [
    {
     "name": "stdout",
     "output_type": "stream",
     "text": [
      "586/586 [==============================] - 2s 3ms/step - loss: 0.3738 - accuracy: 0.8298\n",
      "Test Accuracy: 0.8298133611679077\n"
     ]
    }
   ],
   "source": [
    "test_loss, test_accuracy = model.evaluate(X_test, y_test)\n",
    "print(f'Test Accuracy: {test_accuracy}')"
   ]
  },
  {
   "cell_type": "markdown",
   "metadata": {},
   "source": [
    "- 예측"
   ]
  },
  {
   "cell_type": "code",
   "execution_count": 37,
   "metadata": {},
   "outputs": [
    {
     "name": "stderr",
     "output_type": "stream",
     "text": [
      "2024-07-07 19:33:27.649888: I tensorflow/core/grappler/optimizers/custom_graph_optimizer_registry.cc:112] Plugin optimizer for device_type GPU is enabled.\n"
     ]
    }
   ],
   "source": [
    "y_pred_prob = model.predict(X_test).ravel()\n",
    "y_pred = (y_pred_prob > 0.5).astype(int)"
   ]
  },
  {
   "cell_type": "markdown",
   "metadata": {},
   "source": [
    "- 성능 평가"
   ]
  },
  {
   "cell_type": "code",
   "execution_count": 38,
   "metadata": {},
   "outputs": [
    {
     "name": "stdout",
     "output_type": "stream",
     "text": [
      "AUC: 0.9177\n",
      "Precision: 0.8207\n",
      "Recall: 0.8551\n",
      "F1 Score: 0.8375\n",
      "\n",
      "Classification Report:\n",
      "               precision    recall  f1-score   support\n",
      "\n",
      "           0       0.84      0.80      0.82      9132\n",
      "           1       0.82      0.86      0.84      9618\n",
      "\n",
      "    accuracy                           0.83     18750\n",
      "   macro avg       0.83      0.83      0.83     18750\n",
      "weighted avg       0.83      0.83      0.83     18750\n",
      "\n"
     ]
    }
   ],
   "source": [
    "fpr, tpr, thresholds = roc_curve(y_test, y_pred_prob)\n",
    "roc_auc = auc(fpr, tpr)\n",
    "\n",
    "precision = precision_score(y_test, y_pred)\n",
    "recall = recall_score(y_test, y_pred)\n",
    "f1 = f1_score(y_test, y_pred)\n",
    "\n",
    "print(\"AUC: {:.4f}\".format(roc_auc))\n",
    "print(\"Precision: {:.4f}\".format(precision))\n",
    "print(\"Recall: {:.4f}\".format(recall))\n",
    "print(\"F1 Score: {:.4f}\".format(f1))\n",
    "print(\"\\nClassification Report:\\n\", classification_report(y_test, y_pred))"
   ]
  },
  {
   "cell_type": "markdown",
   "metadata": {},
   "source": [
    "- Confusion Matrix 시각화"
   ]
  },
  {
   "cell_type": "code",
   "execution_count": 39,
   "metadata": {},
   "outputs": [
    {
     "data": {
      "image/png": "[encoded data removed]",
      "text/plain": [
       "<Figure size 640x480 with 2 Axes>"
      ]
     },
     "metadata": {},
     "output_type": "display_data"
    }
   ],
   "source": [
    "ConfusionMatrixDisplay.from_predictions(y_test, y_pred)\n",
    "plt.show()"
   ]
  },
  {
   "cell_type": "markdown",
   "metadata": {},
   "source": [
    "- ROC Curve 시각화"
   ]
  },
  {
   "cell_type": "code",
   "execution_count": 40,
   "metadata": {},
   "outputs": [
    {
     "data": {
      "image/png": "[encoded data removed]",
      "text/plain": [
       "<Figure size 1000x600 with 1 Axes>"
      ]
     },
     "metadata": {},
     "output_type": "display_data"
    }
   ],
   "source": [
    "plt.figure(figsize=(10, 6))\n",
    "plt.plot(fpr, tpr, color='blue', lw=2, label='ROC curve (area = {:.4f})'.format(roc_auc))\n",
    "plt.plot([0, 1], [0, 1], color='grey', lw=2, linestyle='--')\n",
    "plt.xlim([0.0, 1.0])\n",
    "plt.ylim([0.0, 1.05])\n",
    "plt.xlabel('False Positive Rate')\n",
    "plt.ylabel('True Positive Rate')\n",
    "plt.title('ROC Curve')\n",
    "plt.legend(loc=\"lower right\")\n",
    "plt.show()"
   ]
  },
  {
   "cell_type": "code",
   "execution_count": null,
   "metadata": {},
   "outputs": [],
   "source": []
  }
 ],
 "metadata": {
  "kernelspec": {
   "display_name": "Python 3",
   "language": "python",
   "name": "python3"
  },
  "language_info": {
   "codemirror_mode": {
    "name": "ipython",
    "version": 3
   },
   "file_extension": ".py",
   "mimetype": "text/x-python",
   "name": "python",
   "nbconvert_exporter": "python",
   "pygments_lexer": "ipython3",
   "version": "3.8.15"
  }
 },
 "nbformat": 4,
 "nbformat_minor": 2
}
