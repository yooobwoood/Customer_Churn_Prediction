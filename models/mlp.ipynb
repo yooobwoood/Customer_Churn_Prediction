{
 "cells": [
  {
   "cell_type": "markdown",
   "metadata": {},
   "source": [
    "## Import"
   ]
  },
  {
   "cell_type": "code",
   "execution_count": 3,
   "metadata": {},
   "outputs": [],
   "source": [
    "import numpy as np\n",
    "import pandas as pd\n",
    "import matplotlib.pyplot as plt\n",
    "\n",
    "from sklearn.model_selection import train_test_split\n",
    "from sklearn.metrics import roc_curve, auc, precision_score, recall_score, f1_score, classification_report, ConfusionMatrixDisplay\n",
    "\n",
    "from tensorflow.keras.models import Sequential \n",
    "from tensorflow.keras.layers import Dense, Dropout\n",
    "from tensorflow.keras.callbacks import EarlyStopping, ModelCheckpoint\n",
    "\n",
    "import warnings\n",
    "warnings.filterwarnings('ignore')"
   ]
  },
  {
   "cell_type": "markdown",
   "metadata": {},
   "source": [
    "## Load Data"
   ]
  },
  {
   "cell_type": "code",
   "execution_count": 4,
   "metadata": {},
   "outputs": [],
   "source": [
    "preprocess_df = pd.read_csv('../data/preprocessing_data.csv')"
   ]
  },
  {
   "cell_type": "markdown",
   "metadata": {},
   "source": [
    "## Feature Selection"
   ]
  },
  {
   "cell_type": "code",
   "execution_count": 5,
   "metadata": {},
   "outputs": [],
   "source": [
    "X = preprocess_df.drop(columns = ['customer_id','location','payment_plan','payment_method','num_playlists_created','churned'])\n",
    "y = preprocess_df['churned']"
   ]
  },
  {
   "cell_type": "markdown",
   "metadata": {},
   "source": [
    "## Training set / Validation set / Test set"
   ]
  },
  {
   "cell_type": "code",
   "execution_count": 6,
   "metadata": {},
   "outputs": [],
   "source": [
    "# 데이터를 70% 훈련 세트, 30% 임시 세트로 나누기\n",
    "X_train, X_temp, y_train, y_temp = train_test_split(X, y, test_size=0.3, random_state=42)\n",
    "\n",
    "# 임시 세트를 다시 50%로 나누어 15% 검증 세트, 15% 테스트 세트로 나누기\n",
    "X_val, X_test, y_val, y_test = train_test_split(X_temp, y_temp, test_size=0.5, random_state=42)"
   ]
  },
  {
   "cell_type": "code",
   "execution_count": 7,
   "metadata": {},
   "outputs": [],
   "source": [
    "X_train = np.array(X_train, dtype=np.float32)\n",
    "y_train = np.array(y_train, dtype=np.float32)\n",
    "X_val = np.array(X_val, dtype=np.float32)\n",
    "y_val = np.array(y_val, dtype=np.float32)\n",
    "X_test = np.array(X_test, dtype=np.float32)\n",
    "y_test = np.array(y_test, dtype=np.float32)"
   ]
  },
  {
   "cell_type": "markdown",
   "metadata": {},
   "source": [
    "## MLP Model"
   ]
  },
  {
   "cell_type": "markdown",
   "metadata": {},
   "source": [
    "- 모델 정의"
   ]
  },
  {
   "cell_type": "code",
   "execution_count": 8,
   "metadata": {},
   "outputs": [],
   "source": [
    "model = Sequential([\n",
    "    Dense(64, activation='relu', input_shape=(X_train.shape[1],)),\n",
    "    Dropout(0.3),\n",
    "    Dense(32, activation='relu'),\n",
    "    Dropout(0.3),\n",
    "    Dense(16, activation='relu'),\n",
    "    Dense(1, activation='sigmoid') \n",
    "])"
   ]
  },
  {
   "cell_type": "markdown",
   "metadata": {},
   "source": [
    "- 모델 컴파일"
   ]
  },
  {
   "cell_type": "code",
   "execution_count": 9,
   "metadata": {},
   "outputs": [],
   "source": [
    "model.compile(optimizer='adam', \n",
    "              loss='binary_crossentropy',  \n",
    "              metrics=['accuracy'])"
   ]
  },
  {
   "cell_type": "markdown",
   "metadata": {},
   "source": [
    "- 콜백 정의"
   ]
  },
  {
   "cell_type": "code",
   "execution_count": 10,
   "metadata": {},
   "outputs": [],
   "source": [
    "early_stopping = EarlyStopping(monitor='val_loss', patience=20, restore_best_weights=True)\n",
    "model_checkpoint = ModelCheckpoint('best_model.h5', save_best_only=True)"
   ]
  },
  {
   "cell_type": "markdown",
   "metadata": {},
   "source": [
    "- 모델 학습"
   ]
  },
  {
   "cell_type": "code",
   "execution_count": 11,
   "metadata": {},
   "outputs": [
    {
     "name": "stdout",
     "output_type": "stream",
     "text": [
      "Epoch 1/100\n",
      "2735/2735 [==============================] - 3s 917us/step - loss: 1.8711 - accuracy: 0.5069 - val_loss: 0.6929 - val_accuracy: 0.5112\n",
      "Epoch 2/100\n",
      "2735/2735 [==============================] - 2s 868us/step - loss: 0.6961 - accuracy: 0.5128 - val_loss: 0.6929 - val_accuracy: 0.5112\n",
      "Epoch 3/100\n",
      "2735/2735 [==============================] - 2s 858us/step - loss: 0.6940 - accuracy: 0.5137 - val_loss: 0.6929 - val_accuracy: 0.5112\n",
      "Epoch 4/100\n",
      "2735/2735 [==============================] - 2s 890us/step - loss: 0.6932 - accuracy: 0.5138 - val_loss: 0.6926 - val_accuracy: 0.5112\n",
      "Epoch 5/100\n",
      "2735/2735 [==============================] - 2s 878us/step - loss: 0.6925 - accuracy: 0.5140 - val_loss: 0.6916 - val_accuracy: 0.5112\n",
      "Epoch 6/100\n",
      "2735/2735 [==============================] - 2s 865us/step - loss: 0.6914 - accuracy: 0.5139 - val_loss: 0.6903 - val_accuracy: 0.5112\n",
      "Epoch 7/100\n",
      "2735/2735 [==============================] - 2s 878us/step - loss: 0.6906 - accuracy: 0.5139 - val_loss: 0.6892 - val_accuracy: 0.5112\n",
      "Epoch 8/100\n",
      "2735/2735 [==============================] - 2s 875us/step - loss: 0.6866 - accuracy: 0.5162 - val_loss: 0.6758 - val_accuracy: 0.5466\n",
      "Epoch 9/100\n",
      "2735/2735 [==============================] - 2s 871us/step - loss: 0.5825 - accuracy: 0.6760 - val_loss: 0.4352 - val_accuracy: 0.8071\n",
      "Epoch 10/100\n",
      "2735/2735 [==============================] - 2s 866us/step - loss: 0.4716 - accuracy: 0.7692 - val_loss: 0.4127 - val_accuracy: 0.8106\n",
      "Epoch 11/100\n",
      "2735/2735 [==============================] - 2s 875us/step - loss: 0.4466 - accuracy: 0.7877 - val_loss: 0.4338 - val_accuracy: 0.7942\n",
      "Epoch 12/100\n",
      "2735/2735 [==============================] - 2s 861us/step - loss: 0.4425 - accuracy: 0.7894 - val_loss: 0.4429 - val_accuracy: 0.8048\n",
      "Epoch 13/100\n",
      "2735/2735 [==============================] - 2s 858us/step - loss: 0.4377 - accuracy: 0.7947 - val_loss: 0.4270 - val_accuracy: 0.8102\n",
      "Epoch 14/100\n",
      "2735/2735 [==============================] - 2s 896us/step - loss: 0.4387 - accuracy: 0.7907 - val_loss: 0.4243 - val_accuracy: 0.8087\n",
      "Epoch 15/100\n",
      "2735/2735 [==============================] - 2s 844us/step - loss: 0.4335 - accuracy: 0.7948 - val_loss: 0.4223 - val_accuracy: 0.8101\n",
      "Epoch 16/100\n",
      "2735/2735 [==============================] - 2s 856us/step - loss: 0.4295 - accuracy: 0.7981 - val_loss: 0.4225 - val_accuracy: 0.8107\n",
      "Epoch 17/100\n",
      "2735/2735 [==============================] - 2s 842us/step - loss: 0.4312 - accuracy: 0.7955 - val_loss: 0.4281 - val_accuracy: 0.8023\n",
      "Epoch 18/100\n",
      "2735/2735 [==============================] - 2s 824us/step - loss: 0.4247 - accuracy: 0.7990 - val_loss: 0.4315 - val_accuracy: 0.8086\n",
      "Epoch 19/100\n",
      "2735/2735 [==============================] - 2s 857us/step - loss: 0.4258 - accuracy: 0.7973 - val_loss: 0.4290 - val_accuracy: 0.8148\n",
      "Epoch 20/100\n",
      "2735/2735 [==============================] - 2s 840us/step - loss: 0.4267 - accuracy: 0.7952 - val_loss: 0.4245 - val_accuracy: 0.8090\n",
      "Epoch 21/100\n",
      "2735/2735 [==============================] - 2s 859us/step - loss: 0.4251 - accuracy: 0.7975 - val_loss: 0.4173 - val_accuracy: 0.8120\n",
      "Epoch 22/100\n",
      "2735/2735 [==============================] - 2s 904us/step - loss: 0.4208 - accuracy: 0.8005 - val_loss: 0.4118 - val_accuracy: 0.8090\n",
      "Epoch 23/100\n",
      "2735/2735 [==============================] - 2s 871us/step - loss: 0.4214 - accuracy: 0.8006 - val_loss: 0.4486 - val_accuracy: 0.7954\n",
      "Epoch 24/100\n",
      "2735/2735 [==============================] - 2s 885us/step - loss: 0.4199 - accuracy: 0.8012 - val_loss: 0.4535 - val_accuracy: 0.7777\n",
      "Epoch 25/100\n",
      "2735/2735 [==============================] - 2s 878us/step - loss: 0.4161 - accuracy: 0.8039 - val_loss: 0.4211 - val_accuracy: 0.8131\n",
      "Epoch 26/100\n",
      "2735/2735 [==============================] - 2s 876us/step - loss: 0.4119 - accuracy: 0.8044 - val_loss: 0.4345 - val_accuracy: 0.8121\n",
      "Epoch 27/100\n",
      "2735/2735 [==============================] - 2s 864us/step - loss: 0.4128 - accuracy: 0.8065 - val_loss: 0.4444 - val_accuracy: 0.8129\n",
      "Epoch 28/100\n",
      "2735/2735 [==============================] - 2s 848us/step - loss: 0.4129 - accuracy: 0.8043 - val_loss: 0.4170 - val_accuracy: 0.8149\n",
      "Epoch 29/100\n",
      "2735/2735 [==============================] - 2s 856us/step - loss: 0.4120 - accuracy: 0.8062 - val_loss: 0.4186 - val_accuracy: 0.8160\n",
      "Epoch 30/100\n",
      "2735/2735 [==============================] - 2s 871us/step - loss: 0.4065 - accuracy: 0.8078 - val_loss: 0.4380 - val_accuracy: 0.8057\n",
      "Epoch 31/100\n",
      "2735/2735 [==============================] - 2s 870us/step - loss: 0.4073 - accuracy: 0.8076 - val_loss: 0.4039 - val_accuracy: 0.8215\n",
      "Epoch 32/100\n",
      "2735/2735 [==============================] - 2s 877us/step - loss: 0.4074 - accuracy: 0.8071 - val_loss: 0.4064 - val_accuracy: 0.8211\n",
      "Epoch 33/100\n",
      "2735/2735 [==============================] - 2s 905us/step - loss: 0.4017 - accuracy: 0.8102 - val_loss: 0.4190 - val_accuracy: 0.8204\n",
      "Epoch 34/100\n",
      "2735/2735 [==============================] - 2s 880us/step - loss: 0.4010 - accuracy: 0.8119 - val_loss: 0.4047 - val_accuracy: 0.8223\n",
      "Epoch 35/100\n",
      "2735/2735 [==============================] - 2s 861us/step - loss: 0.4017 - accuracy: 0.8104 - val_loss: 0.4190 - val_accuracy: 0.8136\n",
      "Epoch 36/100\n",
      "2735/2735 [==============================] - 2s 888us/step - loss: 0.4013 - accuracy: 0.8104 - val_loss: 0.3978 - val_accuracy: 0.8244\n",
      "Epoch 37/100\n",
      "2735/2735 [==============================] - 2s 910us/step - loss: 0.3996 - accuracy: 0.8121 - val_loss: 0.3958 - val_accuracy: 0.8167\n",
      "Epoch 38/100\n",
      "2735/2735 [==============================] - 2s 872us/step - loss: 0.3987 - accuracy: 0.8136 - val_loss: 0.3989 - val_accuracy: 0.8249\n",
      "Epoch 39/100\n",
      "2735/2735 [==============================] - 2s 889us/step - loss: 0.3979 - accuracy: 0.8136 - val_loss: 0.4283 - val_accuracy: 0.8041\n",
      "Epoch 40/100\n",
      "2735/2735 [==============================] - 2s 894us/step - loss: 0.3974 - accuracy: 0.8135 - val_loss: 0.4125 - val_accuracy: 0.8183\n",
      "Epoch 41/100\n",
      "2735/2735 [==============================] - 2s 868us/step - loss: 0.3971 - accuracy: 0.8138 - val_loss: 0.4111 - val_accuracy: 0.8267\n",
      "Epoch 42/100\n",
      "2735/2735 [==============================] - 2s 901us/step - loss: 0.3945 - accuracy: 0.8154 - val_loss: 0.4012 - val_accuracy: 0.8178\n",
      "Epoch 43/100\n",
      "2735/2735 [==============================] - 2s 884us/step - loss: 0.3941 - accuracy: 0.8151 - val_loss: 0.3971 - val_accuracy: 0.8184\n",
      "Epoch 44/100\n",
      "2735/2735 [==============================] - 2s 873us/step - loss: 0.3931 - accuracy: 0.8151 - val_loss: 0.3978 - val_accuracy: 0.8239\n",
      "Epoch 45/100\n",
      "2735/2735 [==============================] - 2s 849us/step - loss: 0.3939 - accuracy: 0.8155 - val_loss: 0.4119 - val_accuracy: 0.8254\n",
      "Epoch 46/100\n",
      "2735/2735 [==============================] - 2s 900us/step - loss: 0.3943 - accuracy: 0.8148 - val_loss: 0.4012 - val_accuracy: 0.8219\n",
      "Epoch 47/100\n",
      "2735/2735 [==============================] - 2s 881us/step - loss: 0.3899 - accuracy: 0.8173 - val_loss: 0.4021 - val_accuracy: 0.8262\n",
      "Epoch 48/100\n",
      "2735/2735 [==============================] - 2s 885us/step - loss: 0.3906 - accuracy: 0.8173 - val_loss: 0.3873 - val_accuracy: 0.8246\n",
      "Epoch 49/100\n",
      "2735/2735 [==============================] - 2s 869us/step - loss: 0.3896 - accuracy: 0.8189 - val_loss: 0.4155 - val_accuracy: 0.8237\n",
      "Epoch 50/100\n",
      "2735/2735 [==============================] - 2s 897us/step - loss: 0.3886 - accuracy: 0.8164 - val_loss: 0.3995 - val_accuracy: 0.8242\n",
      "Epoch 51/100\n",
      "2735/2735 [==============================] - 2s 889us/step - loss: 0.3913 - accuracy: 0.8160 - val_loss: 0.4308 - val_accuracy: 0.8166\n",
      "Epoch 52/100\n",
      "2735/2735 [==============================] - 2s 876us/step - loss: 0.3887 - accuracy: 0.8173 - val_loss: 0.4095 - val_accuracy: 0.8223\n",
      "Epoch 53/100\n",
      "2735/2735 [==============================] - 2s 908us/step - loss: 0.3887 - accuracy: 0.8166 - val_loss: 0.3895 - val_accuracy: 0.8282\n",
      "Epoch 54/100\n",
      "2735/2735 [==============================] - 2s 867us/step - loss: 0.3879 - accuracy: 0.8183 - val_loss: 0.3932 - val_accuracy: 0.8297\n",
      "Epoch 55/100\n",
      "2735/2735 [==============================] - 2s 912us/step - loss: 0.3874 - accuracy: 0.8180 - val_loss: 0.4022 - val_accuracy: 0.8201\n",
      "Epoch 56/100\n",
      "2735/2735 [==============================] - 2s 882us/step - loss: 0.3864 - accuracy: 0.8169 - val_loss: 0.4021 - val_accuracy: 0.8234\n",
      "Epoch 57/100\n",
      "2735/2735 [==============================] - 2s 849us/step - loss: 0.3866 - accuracy: 0.8189 - val_loss: 0.4089 - val_accuracy: 0.8156\n",
      "Epoch 58/100\n",
      "2735/2735 [==============================] - 2s 876us/step - loss: 0.3866 - accuracy: 0.8185 - val_loss: 0.3840 - val_accuracy: 0.8241\n",
      "Epoch 59/100\n",
      "2735/2735 [==============================] - 2s 871us/step - loss: 0.3866 - accuracy: 0.8180 - val_loss: 0.3967 - val_accuracy: 0.8247\n",
      "Epoch 60/100\n",
      "2735/2735 [==============================] - 2s 888us/step - loss: 0.3870 - accuracy: 0.8176 - val_loss: 0.3955 - val_accuracy: 0.8211\n",
      "Epoch 61/100\n",
      "2735/2735 [==============================] - 2s 878us/step - loss: 0.3858 - accuracy: 0.8185 - val_loss: 0.4032 - val_accuracy: 0.8239\n",
      "Epoch 62/100\n",
      "2735/2735 [==============================] - 2s 847us/step - loss: 0.3876 - accuracy: 0.8191 - val_loss: 0.4304 - val_accuracy: 0.8122\n",
      "Epoch 63/100\n",
      "2735/2735 [==============================] - 2s 841us/step - loss: 0.3850 - accuracy: 0.8196 - val_loss: 0.4088 - val_accuracy: 0.8215\n",
      "Epoch 64/100\n",
      "2735/2735 [==============================] - 2s 887us/step - loss: 0.3878 - accuracy: 0.8175 - val_loss: 0.4163 - val_accuracy: 0.8262\n",
      "Epoch 65/100\n",
      "2735/2735 [==============================] - 2s 864us/step - loss: 0.3866 - accuracy: 0.8184 - val_loss: 0.4209 - val_accuracy: 0.8156\n",
      "Epoch 66/100\n",
      "2735/2735 [==============================] - 2s 874us/step - loss: 0.3870 - accuracy: 0.8179 - val_loss: 0.4029 - val_accuracy: 0.8252\n",
      "Epoch 67/100\n",
      "2735/2735 [==============================] - 2s 897us/step - loss: 0.3848 - accuracy: 0.8191 - val_loss: 0.4210 - val_accuracy: 0.8059\n",
      "Epoch 68/100\n",
      "2735/2735 [==============================] - 2s 908us/step - loss: 0.3850 - accuracy: 0.8195 - val_loss: 0.3979 - val_accuracy: 0.8247\n",
      "Epoch 69/100\n",
      "2735/2735 [==============================] - 2s 868us/step - loss: 0.3856 - accuracy: 0.8201 - val_loss: 0.3919 - val_accuracy: 0.8225\n",
      "Epoch 70/100\n",
      "2735/2735 [==============================] - 2s 888us/step - loss: 0.3850 - accuracy: 0.8181 - val_loss: 0.4083 - val_accuracy: 0.8138\n",
      "Epoch 71/100\n",
      "2735/2735 [==============================] - 2s 914us/step - loss: 0.3830 - accuracy: 0.8198 - val_loss: 0.4230 - val_accuracy: 0.8027\n",
      "Epoch 72/100\n",
      "2735/2735 [==============================] - 2s 893us/step - loss: 0.3844 - accuracy: 0.8186 - val_loss: 0.4043 - val_accuracy: 0.8175\n",
      "Epoch 73/100\n",
      "2735/2735 [==============================] - 2s 909us/step - loss: 0.3829 - accuracy: 0.8195 - val_loss: 0.4118 - val_accuracy: 0.8137\n",
      "Epoch 74/100\n",
      "2735/2735 [==============================] - 2s 879us/step - loss: 0.3841 - accuracy: 0.8205 - val_loss: 0.4048 - val_accuracy: 0.8216\n",
      "Epoch 75/100\n",
      "2735/2735 [==============================] - 3s 917us/step - loss: 0.3815 - accuracy: 0.8203 - val_loss: 0.4047 - val_accuracy: 0.8252\n",
      "Epoch 76/100\n",
      "2735/2735 [==============================] - 2s 901us/step - loss: 0.3829 - accuracy: 0.8206 - val_loss: 0.4161 - val_accuracy: 0.8132\n",
      "Epoch 77/100\n",
      "2735/2735 [==============================] - 2s 906us/step - loss: 0.3831 - accuracy: 0.8206 - val_loss: 0.4214 - val_accuracy: 0.8019\n",
      "Epoch 78/100\n",
      "2735/2735 [==============================] - 2s 885us/step - loss: 0.3827 - accuracy: 0.8205 - val_loss: 0.4071 - val_accuracy: 0.8201\n"
     ]
    }
   ],
   "source": [
    "history = model.fit(X_train, y_train, \n",
    "                    epochs=100, \n",
    "                    batch_size=32, \n",
    "                    validation_data=(X_val, y_val),\n",
    "                    callbacks = [early_stopping, model_checkpoint])"
   ]
  },
  {
   "cell_type": "markdown",
   "metadata": {},
   "source": [
    "- 테스트 세트 평가"
   ]
  },
  {
   "cell_type": "code",
   "execution_count": 12,
   "metadata": {},
   "outputs": [
    {
     "name": "stdout",
     "output_type": "stream",
     "text": [
      "586/586 [==============================] - 0s 510us/step - loss: 0.3834 - accuracy: 0.8253\n",
      "Test Accuracy: 0.8252800107002258\n"
     ]
    }
   ],
   "source": [
    "test_loss, test_accuracy = model.evaluate(X_test, y_test)\n",
    "print(f'Test Accuracy: {test_accuracy}')"
   ]
  },
  {
   "cell_type": "markdown",
   "metadata": {},
   "source": [
    "- 예측"
   ]
  },
  {
   "cell_type": "code",
   "execution_count": 13,
   "metadata": {},
   "outputs": [
    {
     "name": "stdout",
     "output_type": "stream",
     "text": [
      "586/586 [==============================] - 0s 449us/step\n"
     ]
    }
   ],
   "source": [
    "y_pred_prob = model.predict(X_test).ravel()\n",
    "y_pred = (y_pred_prob > 0.5).astype(int)"
   ]
  },
  {
   "cell_type": "markdown",
   "metadata": {},
   "source": [
    "- 성능 평가"
   ]
  },
  {
   "cell_type": "code",
   "execution_count": 14,
   "metadata": {},
   "outputs": [
    {
     "name": "stdout",
     "output_type": "stream",
     "text": [
      "AUC: 0.92\n",
      "Precision: 0.85\n",
      "Recall: 0.80\n",
      "F1 Score: 0.82\n",
      "\n",
      "Classification Report:\n",
      "               precision    recall  f1-score   support\n",
      "\n",
      "         0.0       0.80      0.85      0.83      9132\n",
      "         1.0       0.85      0.80      0.82      9618\n",
      "\n",
      "    accuracy                           0.83     18750\n",
      "   macro avg       0.83      0.83      0.83     18750\n",
      "weighted avg       0.83      0.83      0.83     18750\n",
      "\n"
     ]
    }
   ],
   "source": [
    "fpr, tpr, thresholds = roc_curve(y_test, y_pred_prob)\n",
    "roc_auc = auc(fpr, tpr)\n",
    "\n",
    "precision = precision_score(y_test, y_pred)\n",
    "recall = recall_score(y_test, y_pred)\n",
    "f1 = f1_score(y_test, y_pred)\n",
    "\n",
    "print(\"AUC: {:.2f}\".format(roc_auc))\n",
    "print(\"Precision: {:.2f}\".format(precision))\n",
    "print(\"Recall: {:.2f}\".format(recall))\n",
    "print(\"F1 Score: {:.2f}\".format(f1))\n",
    "print(\"\\nClassification Report:\\n\", classification_report(y_test, y_pred))"
   ]
  },
  {
   "cell_type": "markdown",
   "metadata": {},
   "source": [
    "- Confusion Matrix 시각화"
   ]
  },
  {
   "cell_type": "code",
   "execution_count": 15,
   "metadata": {},
   "outputs": [
    {
     "data": {
      "image/png": "[encoded data removed]",
      "text/plain": [
       "<Figure size 640x480 with 2 Axes>"
      ]
     },
     "metadata": {},
     "output_type": "display_data"
    }
   ],
   "source": [
    "ConfusionMatrixDisplay.from_predictions(y_test, y_pred)\n",
    "plt.show()"
   ]
  },
  {
   "cell_type": "markdown",
   "metadata": {},
   "source": [
    "- ROC Curve 시각화"
   ]
  },
  {
   "cell_type": "code",
   "execution_count": 16,
   "metadata": {},
   "outputs": [
    {
     "data": {
      "image/png": "[encoded data removed]",
      "text/plain": [
       "<Figure size 1000x600 with 1 Axes>"
      ]
     },
     "metadata": {},
     "output_type": "display_data"
    }
   ],
   "source": [
    "plt.figure(figsize=(10, 6))\n",
    "plt.plot(fpr, tpr, color='blue', lw=2, label='ROC curve (area = {:.2f})'.format(roc_auc))\n",
    "plt.plot([0, 1], [0, 1], color='grey', lw=2, linestyle='--')\n",
    "plt.xlim([0.0, 1.0])\n",
    "plt.ylim([0.0, 1.05])\n",
    "plt.xlabel('False Positive Rate')\n",
    "plt.ylabel('True Positive Rate')\n",
    "plt.title('ROC Curve')\n",
    "plt.legend(loc=\"lower right\")\n",
    "plt.show()"
   ]
  }
 ],
 "metadata": {
  "kernelspec": {
   "display_name": "Python 3",
   "language": "python",
   "name": "python3"
  },
  "language_info": {
   "codemirror_mode": {
    "name": "ipython",
    "version": 3
   },
   "file_extension": ".py",
   "mimetype": "text/x-python",
   "name": "python",
   "nbconvert_exporter": "python",
   "pygments_lexer": "ipython3",
   "version": "3.10.14"
  }
 },
 "nbformat": 4,
 "nbformat_minor": 2
}
