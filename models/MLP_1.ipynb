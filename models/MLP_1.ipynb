{
 "cells": [
  {
   "cell_type": "markdown",
   "metadata": {},
   "source": [
    "## Import"
   ]
  },
  {
   "cell_type": "code",
   "execution_count": 120,
   "metadata": {},
   "outputs": [],
   "source": [
    "import numpy as np\n",
    "import pandas as pd\n",
    "import matplotlib.pyplot as plt\n",
    "\n",
    "from sklearn.model_selection import train_test_split\n",
    "from sklearn.metrics import roc_curve, auc, precision_score, recall_score, f1_score, classification_report, ConfusionMatrixDisplay\n",
    "\n",
    "import tensorflow as tf\n",
    "from tensorflow.keras.models import Sequential \n",
    "from tensorflow.keras.layers import Dense, Dropout\n",
    "from tensorflow.keras.callbacks import EarlyStopping, ModelCheckpoint\n",
    "\n",
    "import warnings\n",
    "warnings.filterwarnings('ignore')"
   ]
  },
  {
   "cell_type": "markdown",
   "metadata": {},
   "source": [
    "## Load Data"
   ]
  },
  {
   "cell_type": "code",
   "execution_count": 121,
   "metadata": {},
   "outputs": [],
   "source": [
    "preprocess_df = pd.read_csv('../data/preprocessing_data.csv')"
   ]
  },
  {
   "cell_type": "markdown",
   "metadata": {},
   "source": [
    "## Feature Selection"
   ]
  },
  {
   "cell_type": "code",
   "execution_count": 122,
   "metadata": {},
   "outputs": [],
   "source": [
    "X = preprocess_df.drop(columns = ['customer_id','location','payment_plan','payment_method','num_playlists_created','churned'])\n",
    "y = preprocess_df['churned']"
   ]
  },
  {
   "cell_type": "markdown",
   "metadata": {},
   "source": [
    "## Training set / Validation set / Test set"
   ]
  },
  {
   "cell_type": "code",
   "execution_count": 123,
   "metadata": {},
   "outputs": [],
   "source": [
    "# 데이터를 70% 훈련 세트, 30% 임시 세트로 나누기\n",
    "X_train, X_temp, y_train, y_temp = train_test_split(X, y, test_size=0.3, random_state=42)\n",
    "\n",
    "# 임시 세트를 다시 50%로 나누어 15% 검증 세트, 15% 테스트 세트로 나누기\n",
    "X_val, X_test, y_val, y_test = train_test_split(X_temp, y_temp, test_size=0.5, random_state=42)"
   ]
  },
  {
   "cell_type": "markdown",
   "metadata": {},
   "source": [
    "## MLP Model"
   ]
  },
  {
   "cell_type": "markdown",
   "metadata": {},
   "source": [
    "- 모델 정의"
   ]
  },
  {
   "cell_type": "code",
   "execution_count": 124,
   "metadata": {},
   "outputs": [],
   "source": [
    "model = Sequential([\n",
    "    Dense(64, activation='relu', input_shape=(X_train.shape[1],)),\n",
    "    Dense(32, activation='relu'),\n",
    "    Dense(1, activation='sigmoid') \n",
    "])"
   ]
  },
  {
   "cell_type": "markdown",
   "metadata": {},
   "source": [
    "- 모델 컴파일"
   ]
  },
  {
   "cell_type": "code",
   "execution_count": 125,
   "metadata": {},
   "outputs": [],
   "source": [
    "model.compile(optimizer=tf.keras.optimizers.Adam(learning_rate=0.001), \n",
    "              loss='binary_crossentropy',  \n",
    "              metrics=['accuracy'])"
   ]
  },
  {
   "cell_type": "markdown",
   "metadata": {},
   "source": [
    "- 모델 학습"
   ]
  },
  {
   "cell_type": "code",
   "execution_count": 127,
   "metadata": {},
   "outputs": [
    {
     "name": "stdout",
     "output_type": "stream",
     "text": [
      "Epoch 1/50\n"
     ]
    },
    {
     "name": "stderr",
     "output_type": "stream",
     "text": [
      "2024-07-07 18:51:55.628226: I tensorflow/core/grappler/optimizers/custom_graph_optimizer_registry.cc:112] Plugin optimizer for device_type GPU is enabled.\n"
     ]
    },
    {
     "name": "stdout",
     "output_type": "stream",
     "text": [
      "2735/2735 [==============================] - ETA: 0s - loss: 0.8975 - accuracy: 0.7158"
     ]
    },
    {
     "name": "stderr",
     "output_type": "stream",
     "text": [
      "2024-07-07 18:52:08.171754: I tensorflow/core/grappler/optimizers/custom_graph_optimizer_registry.cc:112] Plugin optimizer for device_type GPU is enabled.\n"
     ]
    },
    {
     "name": "stdout",
     "output_type": "stream",
     "text": [
      "2735/2735 [==============================] - 14s 5ms/step - loss: 0.8975 - accuracy: 0.7158 - val_loss: 1.8187 - val_accuracy: 0.5990\n",
      "Epoch 2/50\n",
      "2735/2735 [==============================] - 14s 5ms/step - loss: 0.5758 - accuracy: 0.7692 - val_loss: 0.5057 - val_accuracy: 0.7777\n",
      "Epoch 3/50\n",
      "2735/2735 [==============================] - 13s 5ms/step - loss: 0.5129 - accuracy: 0.7803 - val_loss: 0.4118 - val_accuracy: 0.8064\n",
      "Epoch 4/50\n",
      "2735/2735 [==============================] - 14s 5ms/step - loss: 0.5161 - accuracy: 0.7788 - val_loss: 0.4141 - val_accuracy: 0.8042\n",
      "Epoch 5/50\n",
      "2735/2735 [==============================] - 13s 5ms/step - loss: 0.4783 - accuracy: 0.7847 - val_loss: 0.4339 - val_accuracy: 0.7948\n",
      "Epoch 6/50\n",
      "2735/2735 [==============================] - 13s 5ms/step - loss: 0.4630 - accuracy: 0.7872 - val_loss: 0.6919 - val_accuracy: 0.7151\n",
      "Epoch 7/50\n",
      "2735/2735 [==============================] - 14s 5ms/step - loss: 0.4453 - accuracy: 0.7921 - val_loss: 0.4023 - val_accuracy: 0.8079\n",
      "Epoch 8/50\n",
      "2735/2735 [==============================] - 14s 5ms/step - loss: 0.4287 - accuracy: 0.7971 - val_loss: 0.5894 - val_accuracy: 0.7278\n",
      "Epoch 9/50\n",
      "2735/2735 [==============================] - 13s 5ms/step - loss: 0.4173 - accuracy: 0.8019 - val_loss: 0.3938 - val_accuracy: 0.8099\n",
      "Epoch 10/50\n",
      "2735/2735 [==============================] - 13s 5ms/step - loss: 0.4149 - accuracy: 0.8012 - val_loss: 0.3983 - val_accuracy: 0.8082\n",
      "Epoch 11/50\n",
      "2735/2735 [==============================] - 13s 5ms/step - loss: 0.4132 - accuracy: 0.8027 - val_loss: 0.3900 - val_accuracy: 0.8125\n",
      "Epoch 12/50\n",
      "2735/2735 [==============================] - 13s 5ms/step - loss: 0.4089 - accuracy: 0.8039 - val_loss: 0.3918 - val_accuracy: 0.8119\n",
      "Epoch 13/50\n",
      "2735/2735 [==============================] - 13s 5ms/step - loss: 0.4071 - accuracy: 0.8073 - val_loss: 0.3918 - val_accuracy: 0.8125\n",
      "Epoch 14/50\n",
      "2735/2735 [==============================] - 13s 5ms/step - loss: 0.4030 - accuracy: 0.8086 - val_loss: 0.4284 - val_accuracy: 0.7936\n",
      "Epoch 15/50\n",
      "2735/2735 [==============================] - 15s 5ms/step - loss: 0.3989 - accuracy: 0.8100 - val_loss: 0.3843 - val_accuracy: 0.8129\n",
      "Epoch 16/50\n",
      "2735/2735 [==============================] - 14s 5ms/step - loss: 0.3904 - accuracy: 0.8145 - val_loss: 0.3819 - val_accuracy: 0.8165\n",
      "Epoch 17/50\n",
      "2735/2735 [==============================] - 13s 5ms/step - loss: 0.3863 - accuracy: 0.8173 - val_loss: 0.3879 - val_accuracy: 0.8129\n",
      "Epoch 18/50\n",
      "2735/2735 [==============================] - 13s 5ms/step - loss: 0.3816 - accuracy: 0.8195 - val_loss: 0.4152 - val_accuracy: 0.7999\n",
      "Epoch 19/50\n",
      "2735/2735 [==============================] - 14s 5ms/step - loss: 0.3782 - accuracy: 0.8203 - val_loss: 0.4216 - val_accuracy: 0.7972\n",
      "Epoch 20/50\n",
      "2735/2735 [==============================] - 14s 5ms/step - loss: 0.3769 - accuracy: 0.8227 - val_loss: 0.3810 - val_accuracy: 0.8192\n",
      "Epoch 21/50\n",
      "2735/2735 [==============================] - 14s 5ms/step - loss: 0.3753 - accuracy: 0.8219 - val_loss: 0.3738 - val_accuracy: 0.8221\n",
      "Epoch 22/50\n",
      "2735/2735 [==============================] - 13s 5ms/step - loss: 0.3769 - accuracy: 0.8207 - val_loss: 0.3839 - val_accuracy: 0.8193\n",
      "Epoch 23/50\n",
      "2735/2735 [==============================] - 12s 5ms/step - loss: 0.3724 - accuracy: 0.8238 - val_loss: 0.3813 - val_accuracy: 0.8172\n",
      "Epoch 24/50\n",
      "2735/2735 [==============================] - 13s 5ms/step - loss: 0.3726 - accuracy: 0.8242 - val_loss: 0.3745 - val_accuracy: 0.8238\n",
      "Epoch 25/50\n",
      "2735/2735 [==============================] - 12s 5ms/step - loss: 0.3704 - accuracy: 0.8246 - val_loss: 0.3630 - val_accuracy: 0.8278\n",
      "Epoch 26/50\n",
      "2735/2735 [==============================] - 13s 5ms/step - loss: 0.3718 - accuracy: 0.8245 - val_loss: 0.3670 - val_accuracy: 0.8263\n",
      "Epoch 27/50\n",
      "2735/2735 [==============================] - 13s 5ms/step - loss: 0.3688 - accuracy: 0.8249 - val_loss: 0.3678 - val_accuracy: 0.8251\n",
      "Epoch 28/50\n",
      "2735/2735 [==============================] - 13s 5ms/step - loss: 0.3710 - accuracy: 0.8253 - val_loss: 0.3679 - val_accuracy: 0.8245\n",
      "Epoch 29/50\n",
      "2735/2735 [==============================] - 13s 5ms/step - loss: 0.3673 - accuracy: 0.8267 - val_loss: 0.3944 - val_accuracy: 0.8103\n",
      "Epoch 30/50\n",
      "2735/2735 [==============================] - 14s 5ms/step - loss: 0.3683 - accuracy: 0.8253 - val_loss: 0.3634 - val_accuracy: 0.8291\n",
      "Epoch 31/50\n",
      "2735/2735 [==============================] - 13s 5ms/step - loss: 0.3680 - accuracy: 0.8263 - val_loss: 0.3664 - val_accuracy: 0.8229\n",
      "Epoch 32/50\n",
      "2735/2735 [==============================] - 14s 5ms/step - loss: 0.3678 - accuracy: 0.8264 - val_loss: 0.3694 - val_accuracy: 0.8222\n",
      "Epoch 33/50\n",
      "2735/2735 [==============================] - 13s 5ms/step - loss: 0.3675 - accuracy: 0.8259 - val_loss: 0.3639 - val_accuracy: 0.8271\n",
      "Epoch 34/50\n",
      "2735/2735 [==============================] - 13s 5ms/step - loss: 0.3664 - accuracy: 0.8279 - val_loss: 0.3682 - val_accuracy: 0.8226\n",
      "Epoch 35/50\n",
      "2735/2735 [==============================] - 13s 5ms/step - loss: 0.3664 - accuracy: 0.8277 - val_loss: 0.3644 - val_accuracy: 0.8278\n",
      "Epoch 36/50\n",
      "2735/2735 [==============================] - 13s 5ms/step - loss: 0.3652 - accuracy: 0.8270 - val_loss: 0.3653 - val_accuracy: 0.8313\n",
      "Epoch 37/50\n",
      "2735/2735 [==============================] - 13s 5ms/step - loss: 0.3657 - accuracy: 0.8268 - val_loss: 0.3868 - val_accuracy: 0.8155\n",
      "Epoch 38/50\n",
      "2735/2735 [==============================] - 13s 5ms/step - loss: 0.3633 - accuracy: 0.8290 - val_loss: 0.3626 - val_accuracy: 0.8309\n",
      "Epoch 39/50\n",
      "2735/2735 [==============================] - 13s 5ms/step - loss: 0.3638 - accuracy: 0.8292 - val_loss: 0.3754 - val_accuracy: 0.8231\n",
      "Epoch 40/50\n",
      "2735/2735 [==============================] - 13s 5ms/step - loss: 0.3610 - accuracy: 0.8302 - val_loss: 0.3637 - val_accuracy: 0.8295\n",
      "Epoch 41/50\n",
      "2735/2735 [==============================] - 13s 5ms/step - loss: 0.3636 - accuracy: 0.8280 - val_loss: 0.3722 - val_accuracy: 0.8236\n",
      "Epoch 42/50\n",
      "2735/2735 [==============================] - 13s 5ms/step - loss: 0.3616 - accuracy: 0.8294 - val_loss: 0.3690 - val_accuracy: 0.8265\n",
      "Epoch 43/50\n",
      "2735/2735 [==============================] - 13s 5ms/step - loss: 0.3610 - accuracy: 0.8299 - val_loss: 0.3651 - val_accuracy: 0.8290\n",
      "Epoch 44/50\n",
      "2735/2735 [==============================] - 13s 5ms/step - loss: 0.3633 - accuracy: 0.8277 - val_loss: 0.3756 - val_accuracy: 0.8266\n",
      "Epoch 45/50\n",
      "2735/2735 [==============================] - 13s 5ms/step - loss: 0.3617 - accuracy: 0.8303 - val_loss: 0.3605 - val_accuracy: 0.8311\n",
      "Epoch 46/50\n",
      "2735/2735 [==============================] - 13s 5ms/step - loss: 0.3617 - accuracy: 0.8289 - val_loss: 0.3721 - val_accuracy: 0.8273\n",
      "Epoch 47/50\n",
      "2735/2735 [==============================] - 13s 5ms/step - loss: 0.3617 - accuracy: 0.8300 - val_loss: 0.3637 - val_accuracy: 0.8337\n",
      "Epoch 48/50\n",
      "2735/2735 [==============================] - 13s 5ms/step - loss: 0.3603 - accuracy: 0.8295 - val_loss: 0.3636 - val_accuracy: 0.8316\n",
      "Epoch 49/50\n",
      "2735/2735 [==============================] - 13s 5ms/step - loss: 0.3596 - accuracy: 0.8300 - val_loss: 0.3633 - val_accuracy: 0.8326\n",
      "Epoch 50/50\n",
      "2735/2735 [==============================] - 13s 5ms/step - loss: 0.3595 - accuracy: 0.8301 - val_loss: 0.3688 - val_accuracy: 0.8296\n"
     ]
    }
   ],
   "source": [
    "history = model.fit(X_train, y_train, \n",
    "                    epochs=50, \n",
    "                    batch_size=32, \n",
    "                    validation_data=(X_val, y_val))"
   ]
  },
  {
   "cell_type": "markdown",
   "metadata": {},
   "source": [
    "- 테스트 세트 평가"
   ]
  },
  {
   "cell_type": "code",
   "execution_count": 128,
   "metadata": {},
   "outputs": [
    {
     "name": "stdout",
     "output_type": "stream",
     "text": [
      "586/586 [==============================] - 1s 3ms/step - loss: 0.3746 - accuracy: 0.8300\n",
      "Test Accuracy: 0.8300266861915588\n"
     ]
    }
   ],
   "source": [
    "test_loss, test_accuracy = model.evaluate(X_test, y_test)\n",
    "print(f'Test Accuracy: {test_accuracy}')"
   ]
  },
  {
   "cell_type": "markdown",
   "metadata": {},
   "source": [
    "- 예측"
   ]
  },
  {
   "cell_type": "code",
   "execution_count": 129,
   "metadata": {},
   "outputs": [
    {
     "name": "stderr",
     "output_type": "stream",
     "text": [
      "2024-07-07 19:02:56.605757: I tensorflow/core/grappler/optimizers/custom_graph_optimizer_registry.cc:112] Plugin optimizer for device_type GPU is enabled.\n"
     ]
    }
   ],
   "source": [
    "y_pred_prob = model.predict(X_test).ravel()\n",
    "y_pred = (y_pred_prob > 0.5).astype(int)"
   ]
  },
  {
   "cell_type": "markdown",
   "metadata": {},
   "source": [
    "- 성능 평가"
   ]
  },
  {
   "cell_type": "code",
   "execution_count": 130,
   "metadata": {},
   "outputs": [
    {
     "name": "stdout",
     "output_type": "stream",
     "text": [
      "AUC: 0.9163\n",
      "Precision: 0.8326\n",
      "Recall: 0.8369\n",
      "F1 Score: 0.8347\n",
      "\n",
      "Classification Report:\n",
      "               precision    recall  f1-score   support\n",
      "\n",
      "           0       0.83      0.82      0.83      9132\n",
      "           1       0.83      0.84      0.83      9618\n",
      "\n",
      "    accuracy                           0.83     18750\n",
      "   macro avg       0.83      0.83      0.83     18750\n",
      "weighted avg       0.83      0.83      0.83     18750\n",
      "\n"
     ]
    }
   ],
   "source": [
    "fpr, tpr, thresholds = roc_curve(y_test, y_pred_prob)\n",
    "roc_auc = auc(fpr, tpr)\n",
    "\n",
    "precision = precision_score(y_test, y_pred)\n",
    "recall = recall_score(y_test, y_pred)\n",
    "f1 = f1_score(y_test, y_pred)\n",
    "\n",
    "print(\"AUC: {:.4f}\".format(roc_auc))\n",
    "print(\"Precision: {:.4f}\".format(precision))\n",
    "print(\"Recall: {:.4f}\".format(recall))\n",
    "print(\"F1 Score: {:.4f}\".format(f1))\n",
    "print(\"\\nClassification Report:\\n\", classification_report(y_test, y_pred))"
   ]
  },
  {
   "cell_type": "markdown",
   "metadata": {},
   "source": [
    "- Confusion Matrix 시각화"
   ]
  },
  {
   "cell_type": "code",
   "execution_count": 131,
   "metadata": {},
   "outputs": [
    {
     "data": {
      "image/png": "[encoded data removed]",
      "text/plain": [
       "<Figure size 640x480 with 2 Axes>"
      ]
     },
     "metadata": {},
     "output_type": "display_data"
    }
   ],
   "source": [
    "ConfusionMatrixDisplay.from_predictions(y_test, y_pred)\n",
    "plt.show()"
   ]
  },
  {
   "cell_type": "markdown",
   "metadata": {},
   "source": [
    "- ROC Curve 시각화"
   ]
  },
  {
   "cell_type": "code",
   "execution_count": 132,
   "metadata": {},
   "outputs": [
    {
     "data": {
      "image/png": "[encoded data removed]",
      "text/plain": [
       "<Figure size 1000x600 with 1 Axes>"
      ]
     },
     "metadata": {},
     "output_type": "display_data"
    }
   ],
   "source": [
    "plt.figure(figsize=(10, 6))\n",
    "plt.plot(fpr, tpr, color='blue', lw=2, label='ROC curve (area = {:.4f})'.format(roc_auc))\n",
    "plt.plot([0, 1], [0, 1], color='grey', lw=2, linestyle='--')\n",
    "plt.xlim([0.0, 1.0])\n",
    "plt.ylim([0.0, 1.05])\n",
    "plt.xlabel('False Positive Rate')\n",
    "plt.ylabel('True Positive Rate')\n",
    "plt.title('ROC Curve')\n",
    "plt.legend(loc=\"lower right\")\n",
    "plt.show()"
   ]
  },
  {
   "cell_type": "code",
   "execution_count": null,
   "metadata": {},
   "outputs": [],
   "source": []
  }
 ],
 "metadata": {
  "kernelspec": {
   "display_name": "Python 3",
   "language": "python",
   "name": "python3"
  },
  "language_info": {
   "codemirror_mode": {
    "name": "ipython",
    "version": 3
   },
   "file_extension": ".py",
   "mimetype": "text/x-python",
   "name": "python",
   "nbconvert_exporter": "python",
   "pygments_lexer": "ipython3",
   "version": "3.8.15"
  }
 },
 "nbformat": 4,
 "nbformat_minor": 2
}
